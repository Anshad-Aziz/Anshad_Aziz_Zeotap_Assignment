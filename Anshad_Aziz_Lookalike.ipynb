{
  "nbformat": 4,
  "nbformat_minor": 0,
  "metadata": {
    "colab": {
      "provenance": []
    },
    "kernelspec": {
      "name": "python3",
      "display_name": "Python 3"
    },
    "language_info": {
      "name": "python"
    }
  },
  "cells": [
    {
      "cell_type": "code",
      "execution_count": 5,
      "metadata": {
        "id": "90JQ90suQJw1"
      },
      "outputs": [],
      "source": [
        "import pandas as pd\n",
        "import numpy as np\n",
        "from sklearn.metrics.pairwise import cosine_similarity\n",
        "from sklearn.preprocessing import StandardScaler\n",
        "from datetime import datetime"
      ]
    },
    {
      "cell_type": "code",
      "source": [
        "# Load datasets\n",
        "customers = pd.read_csv('Customers.csv')\n",
        "transactions = pd.read_csv('Transactions.csv')\n",
        "\n",
        "#  Feature Engineering\n",
        "# Merge customer and transaction data\n",
        "merged_data = pd.merge(transactions, customers, on='CustomerID')"
      ],
      "metadata": {
        "id": "upZW-RivRlXw"
      },
      "execution_count": 6,
      "outputs": []
    },
    {
      "cell_type": "code",
      "source": [
        "# Create customer profiles\n",
        "customer_profiles = merged_data.groupby('CustomerID').agg({\n",
        "    'TotalValue': 'sum',\n",
        "    'Quantity': 'sum',\n",
        "    'TransactionID': 'nunique',\n",
        "    'Region': 'first',\n",
        "    'SignupDate': 'first'\n",
        "}).reset_index()\n",
        "\n",
        "# Calculate average order value\n",
        "customer_profiles['AvgOrderValue'] = customer_profiles['TotalValue'] / customer_profiles['Quantity']\n",
        "\n",
        "# Convert SignupDate to days since signup\n",
        "customer_profiles['DaysSinceSignup'] = (datetime.now() - pd.to_datetime(customer_profiles['SignupDate'])).dt.days\n",
        "\n",
        "# One-hot encode Region\n",
        "customer_profiles = pd.get_dummies(customer_profiles, columns=['Region'])"
      ],
      "metadata": {
        "id": "rPm5KnshRlBx"
      },
      "execution_count": 7,
      "outputs": []
    },
    {
      "cell_type": "code",
      "source": [
        "#  Normalize Features\n",
        "# Select numerical features for normalization\n",
        "numerical_features = ['TotalValue', 'Quantity', 'TransactionID', 'AvgOrderValue', 'DaysSinceSignup']\n",
        "scaler = StandardScaler()\n",
        "customer_profiles[numerical_features] = scaler.fit_transform(customer_profiles[numerical_features])"
      ],
      "metadata": {
        "id": "Bwjlq24JRk-U"
      },
      "execution_count": 8,
      "outputs": []
    },
    {
      "cell_type": "code",
      "source": [
        "#  Calculate Similarity Scores\n",
        "# Exclude non-numeric columns (CustomerID and SignupDate) before computing similarity\n",
        "similarity_matrix = cosine_similarity(customer_profiles[numerical_features + list(customer_profiles.columns[customer_profiles.columns.str.startswith('Region_')])])"
      ],
      "metadata": {
        "id": "xxXJgz9lRk7F"
      },
      "execution_count": 9,
      "outputs": []
    },
    {
      "cell_type": "code",
      "source": [
        "#  Generate Recommendations\n",
        "lookalike_map = {}\n",
        "for i in range(20):  # First 20 customers\n",
        "    customer_id = customer_profiles.iloc[i]['CustomerID']\n",
        "    similarity_scores = similarity_matrix[i]\n",
        "    top_3_indices = similarity_scores.argsort()[-4:-1][::-1]  # Exclude self\n",
        "    top_3_customers = customer_profiles.iloc[top_3_indices]['CustomerID'].values\n",
        "    top_3_scores = similarity_scores[top_3_indices]\n",
        "    lookalike_map[customer_id] = list(zip(top_3_customers, top_3_scores))"
      ],
      "metadata": {
        "id": "oiJMBwKzRk3Y"
      },
      "execution_count": 10,
      "outputs": []
    },
    {
      "cell_type": "code",
      "source": [
        "#  Save Results to CSV\n",
        "with open('Lookalike.csv', 'w', newline='') as file:\n",
        "    file.write('CustomerID,LookalikeCustomerID,SimilarityScore\\n')\n",
        "    for cust_id, lookalikes in lookalike_map.items():\n",
        "        for lookalike_id, score in lookalikes:\n",
        "            file.write(f'{cust_id},{lookalike_id},{score}\\n')\n",
        "\n",
        "print(\"Lookalike recommendations saved to Lookalike.csv\")"
      ],
      "metadata": {
        "colab": {
          "base_uri": "https://localhost:8080/"
        },
        "id": "jq8kNq3DRHm0",
        "outputId": "3374452d-76eb-4ba4-a14b-f2397af6102a"
      },
      "execution_count": 11,
      "outputs": [
        {
          "output_type": "stream",
          "name": "stdout",
          "text": [
            "Lookalike recommendations saved to Lookalike.csv\n"
          ]
        }
      ]
    },
    {
      "cell_type": "code",
      "source": [],
      "metadata": {
        "id": "ZF2vNsU9S4_W"
      },
      "execution_count": null,
      "outputs": []
    }
  ]
}